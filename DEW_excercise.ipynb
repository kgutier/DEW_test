# -*- coding: utf-8 -*-

"""
%%%%%%%%%%%%%%%%%%%%%%%%%%%%%%%%%%%%%%%%%%%%%%%%%%%%%%%%%%%%%%%%%%%%%%%%%%%%%%
%  Created                                                                   %
%  1/12/2021                                                                 %
%  Designed for => Python 3.7.6                                              %
%  @author: Karina Y Gutierrez-Jurado                                        %
%  Email: karina.gutierrez@flinders.edu.au                                   %
%                                                                            %
%  Last: modified ____________                                               %
%%%%%%%%%%%%%%%%%%%%%%%%%%%%%%%%%%%%%%%%%%%%%%%%%%%%%%%%%%%%%%%%%%%%%%%%%%%%%%
"""

"""
Script looks at flow from station 401211A from 1968 to 2021 and determines:
    
    1) How many years during the period of records, can we divert the 100GL
    target while complying with hypothetical flow thresholds and diversion
    rules for this location
    
    2) How many days each year is there a flow excedent where water can be 
       diverted
    
"""

# In[]:
#------------------------------------------------------------------------------
#----------------------------Import packages-----------------------------------
#------------------------------------------------------------------------------
import pandas as pd
import os
import matplotlib.pyplot as plt
import numpy as np
#------------------------------------------------------------------------------
#----------------------------Specify file and folder location------------------
#------------------------------------------------------------------------------
# Script can be run from a different location to the data file (.csv
# by specifying the path to the file 
folder_path = os.getcwd() 
flow_file = "401211a_historical.csv"

# Change to the directory where the .dat file is located
os.chdir(folder_path)
fig_dir = 'figures'

# Create a folder to store the figures
if not os.path.exists("figures"):
    print("create figures folder")
    os.mkdir(fig_dir)
    

# In[]:
#------------------------------------------------------------------------------
#---------------Read in the .dat file and create a dataframe ------------------
#------------------------------------------------------------------------------
df = pd.read_csv(flow_file, index_col=0, header = 2, parse_dates=True)
df = df.iloc[2:]
df.dropna(how="all", inplace=True)
df["Discharge (ML/Day)"] = df["Discharge (ML/Day)"].astype(float)


# In[]:
#------------------------------------------------------------------------------
# -----Specify the flow threshold and diversion rules to ----------------------
#------determine when and how much water can be diverted ----------------------
#------------------------------------------------------------------------------
flow_threshold = 500 #Flow threshold (ML) under which NO water can be diverted 
diversion_rule = 0.5 # Diversion of flow allowed above threshold


conditions = (df["Discharge (ML/Day)"] <= flow_threshold, 
              df["Discharge (ML/Day)"] > flow_threshold) 

div_values = (0, (df["Discharge (ML/Day)"] - flow_threshold) * diversion_rule)


df['Diversion (ML/Day)'] = np.select(conditions, div_values)


# In[]:
#------------------------------------------------------------------------------
# -----Resample the data to total (SUM) yearly values -------------------------
#------determine when and how much water can be diverted ----------------------
#------------------------------------------------------------------------------
df_yearly = df.resample('Y').sum()
              
df_yearly.rename(columns={'Discharge (ML/Day)':"Discharge (ML/Year)",
                          "Diversion (ML/Day)" :'Diversion (ML/Year)'},
                 inplace=True)

#How many years can we divert up to 20 GL
diversion_target = 100 #(GL)

conditions = ((df_yearly["Discharge (ML/Year)"]/1000) < flow_threshold,
              (df_yearly["Diversion (ML/Year)"]/1000) >= diversion_target) 

div_values = ("no", "yes")

df_yearly['target_met'] = (np.select(conditions, div_values))

#how many years do we meet the diversion target
diversion_years = df_yearly['target_met'].value_counts()['yes']


#how many days in a year can we divert water (flows are above threshold)
no_divdays_year = (df["Diversion (ML/Day)" ] > 0).resample('Y').sum().astype(int)


no_divdays_year.plot()


# In[]:
#------------------------------------------------------------------------------
# -----Create a couple of figures to sumarize the data-------------------------
#------------------------------------------------------------------------------

#----------Fig 1 Number of days per year where flow is above threshold

fig = plt.figure(figsize=(8, 9))
ax = fig.add_subplot(111)
plot1 = no_divdays_year.plot(ax=ax)

ax.set_xlabel('Date')
ax.set_ylabel('No. days above flow threshold per year')
ax.set_title("Station 401211A")  
plt.savefig(os.path.join(fig_dir, "Total_days_above_threshold(Y)" + '.png'),
            bbox_inches = "tight", dpi=300)

#----------Fig 2 Years where the total amount of allowed diverted flows exceed 
#----------      the diversion target of 100 GL
fig = plt.figure(figsize=(8, 9))
ax = fig.add_subplot(111)
plot1 = df_yearly["Diversion (ML/Year)"].plot(ax=ax)

plt.axhline(y=(diversion_target*1000), color='r', linestyle='-')

props = dict(boxstyle='round', facecolor='wheat', alpha=0.95)

plt.text(0.405, 0.13, "Diversion Target = 100 GL", transform=ax.transAxes,
         fontsize=9,  bbox=props)

ax.set_xlabel('Date')
ax.set_ylabel('Total Yearly Allowed Diversion (ML)')
ax.set_title("Station 401211A")  
plt.savefig(os.path.join(fig_dir, "Yearly_allowed_diversion(MG)" + '.png'),
            bbox_inches = "tight", dpi=300)



